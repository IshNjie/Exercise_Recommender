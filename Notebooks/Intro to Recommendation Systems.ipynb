{
 "cells": [
  {
   "cell_type": "markdown",
   "metadata": {},
   "source": [
    "# Recommendation Engine"
   ]
  },
  {
   "cell_type": "markdown",
   "metadata": {},
   "source": [
    "## Intro\n",
    "\n",
    "https://towardsdatascience.com/introduction-to-recommender-systems-6c66cf15ada\n",
    "\n",
    "A Recommendation engine is a system that aims to generate relevant items to the end user.\n",
    "\n",
    "Netflix, Youtube, Amazon and Spotify are all Companies that will use some form of a Recommendation System to suggest iterms to a user. Users will recieve personalised content based on what they like or what is applicable to them; the user experience on these services will be improved with the use of a system that can suggest appropriate items with some level of accuracy\n",
    "\n",
    "\n",
    "There are two recommendation engine concepts:\n",
    "  * Content-Based\n",
    "  * Collaborative-Based\n",
    "  \n",
    "### Content-Based\n",
    "\n",
    "In one line: Content-Based filtering uses attributes of the observations/items. This works well when there is more information about the items, as opposed to the user. This type of system will look at the nature of the items and recommend items that are similar to the specified item. \n",
    "\n",
    "Example:\n",
    "Spotify will aim to recommend music based on features of songs within a playlist. Features like genre, artist etc.\n",
    "\n",
    "\n",
    "\n",
    "### Collaborative-Based\n",
    "\n",
    "In one line: Collaborative-Based filtering uses preferences of similar users. Essentially, where do user preferences overlap. \n",
    "\n",
    "Example:\n",
    "Amazon will recommned items based on users that bought the same set of items. You might see: \"*Customers also bought*\"\n",
    " "
   ]
  },
  {
   "cell_type": "markdown",
   "metadata": {},
   "source": [
    "## Similarity Measure\n",
    "\n",
    "https://www.youtube.com/watch?v=PlQZepYEppQ\n",
    "\n",
    "https://www.sciencedirect.com/science/article/pii/S1319157821002652\n",
    "    \n",
    "For a recommnedation engine to work, we need a way of quantifying the similarity between two items.\n",
    "\n",
    "### Cosine Similarity\n",
    "\n",
    " \n",
    "Cosine similarity finds how two vectors are related to each other using measuring cosine angle between these vectors.\n",
    "\n",
    "The cosine between two vectors representing two users (or items) indicates the similarity value between each other. A value close to 1 indicates that it exists a strong correlation between the two variables. A value close to 0 indicates that there is no correlation (independent variables). "
   ]
  }
 ],
 "metadata": {
  "kernelspec": {
   "display_name": "Python 3",
   "language": "python",
   "name": "python3"
  },
  "language_info": {
   "codemirror_mode": {
    "name": "ipython",
    "version": 3
   },
   "file_extension": ".py",
   "mimetype": "text/x-python",
   "name": "python",
   "nbconvert_exporter": "python",
   "pygments_lexer": "ipython3",
   "version": "3.8.5"
  }
 },
 "nbformat": 4,
 "nbformat_minor": 4
}
