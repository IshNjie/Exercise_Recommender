{
 "cells": [
  {
   "cell_type": "code",
   "execution_count": 1,
   "metadata": {},
   "outputs": [],
   "source": [
    "import requests\n",
    "from bs4 import BeautifulSoup\n",
    "import pandas as pd\n",
    "\n",
    "from sklearn.metrics.pairwise import cosine_similarity\n",
    "#https://www.crummy.com/software/BeautifulSoup/bs4/doc/"
   ]
  },
  {
   "cell_type": "code",
   "execution_count": 2,
   "metadata": {},
   "outputs": [],
   "source": [
    "class reconSys():\n",
    "    url = 'https://en.wikipedia.org/wiki/List_of_weight_training_exercises'\n",
    "    \n",
    "    \n",
    "    def scrapePage(self):\n",
    "        resp = requests.get(self.url)\n",
    "        #Web scrapping library called beautifulsoup\n",
    "        soup = BeautifulSoup(resp.text,'lxml')\n",
    "        table = soup.find_all('table','wikitable')[0]\n",
    "        df = pd.read_html(str(table))[0]\n",
    "        #df = pd.concat(df)\n",
    "        return df\n",
    "    \n",
    "    def prep(self):\n",
    "        df = self.scrapePage()\n",
    "        df = df.fillna(0).replace(['Some','Yes'],1)\n",
    "        df['Exercise'] = df['Exercise'].str.title()\n",
    "        return df\n",
    "        \n",
    "    \n",
    "    def exerciseRecommend(self,exercise,no_exercises):\n",
    "        df = self.prep()\n",
    "        indices = pd.Series(df.index, index = df['Exercise'])\n",
    "        df2 = df.iloc[:,df.columns != 'Exercise']\n",
    "        cosine_sim = cosine_similarity(df2,df2)\n",
    "        \n",
    "        idx = indices[exercise]\n",
    "        sim_scores = list(enumerate(cosine_sim[idx]))\n",
    "        sim_scores = filter(lambda i:i[0] != idx, sim_scores)\n",
    "        sim_scores = sorted(sim_scores, key=lambda x: x[1], reverse=True)\n",
    "\n",
    "    # Get the scores of the 5 most similar exercises\n",
    "    \n",
    "        sim_scores = sim_scores[0:no_exercises]\n",
    "\n",
    "        movie_indices = [i[0] for i in sim_scores]\n",
    "        print('Top {} Exercises based on {}'.format(no_exercises, exercise))\n",
    "    # Return the top most similar exercises\n",
    "        return df['Exercise'].iloc[movie_indices]\n"
   ]
  },
  {
   "cell_type": "code",
   "execution_count": 3,
   "metadata": {},
   "outputs": [],
   "source": [
    "exerciseList = reconSys()"
   ]
  },
  {
   "cell_type": "code",
   "execution_count": 4,
   "metadata": {},
   "outputs": [
    {
     "name": "stdout",
     "output_type": "stream",
     "text": [
      "Top 5 Exercises based on Bench Press\n"
     ]
    },
    {
     "data": {
      "text/plain": [
       "11           Push-Up\n",
       "10         Chest Fly\n",
       "16    Shoulder Press\n",
       "19          Pushdown\n",
       "17     Lateral Raise\n",
       "Name: Exercise, dtype: object"
      ]
     },
     "execution_count": 4,
     "metadata": {},
     "output_type": "execute_result"
    }
   ],
   "source": [
    "exerciseList.exerciseRecommend('Bench Press',5)"
   ]
  }
 ],
 "metadata": {
  "kernelspec": {
   "display_name": "Python 3",
   "language": "python",
   "name": "python3"
  },
  "language_info": {
   "codemirror_mode": {
    "name": "ipython",
    "version": 3
   },
   "file_extension": ".py",
   "mimetype": "text/x-python",
   "name": "python",
   "nbconvert_exporter": "python",
   "pygments_lexer": "ipython3",
   "version": "3.8.5"
  }
 },
 "nbformat": 4,
 "nbformat_minor": 4
}
