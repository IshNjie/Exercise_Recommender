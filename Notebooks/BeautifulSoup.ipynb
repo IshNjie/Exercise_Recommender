{
 "cells": [
  {
   "cell_type": "markdown",
   "metadata": {},
   "source": [
    "# BeautifulSoup\n",
    "\n",
    "https://michaelcurrin.github.io/dev-cheatsheets/cheatsheets/python/libraries/beautifulsoup.html"
   ]
  },
  {
   "cell_type": "markdown",
   "metadata": {},
   "source": [
    "For HTML parsing\n",
    "```\n",
    "\n",
    "BeautifulSoup(text, \"lxml\")\n",
    "\n",
    "```"
   ]
  },
  {
   "cell_type": "markdown",
   "metadata": {},
   "source": [
    "To get text from WebPage, we can use the requests module to convert webpage to text\n",
    "\n",
    "```\n",
    "resp = requests.get(url)\n",
    "resp.text\n",
    "\n",
    "```\n",
    "resp.text will return a html dump of the webpage\n"
   ]
  },
  {
   "cell_type": "markdown",
   "metadata": {},
   "source": [
    "Create a `soup` object of the webpage\n",
    "\n",
    "```\n",
    "soup = BeautifulSoup(resp.text,'lxml')\n",
    "```\n",
    "\n"
   ]
  },
  {
   "cell_type": "markdown",
   "metadata": {},
   "source": [
    "https://beautiful-soup-4.readthedocs.io/en/latest/\n",
    "\n",
    "Navigate through the page by referring to the tags and atributes.  Either use `find` or `find_all`\n",
    "```\n",
    "table = soup.find_all(tag,attribute)\n",
    "```\n",
    "\n"
   ]
  },
  {
   "cell_type": "markdown",
   "metadata": {},
   "source": [
    "https://pandas.pydata.org/docs/reference/api/pandas.read_html.html\n",
    "\n",
    "Use Pandas to convert soup html to pandas df\n",
    "\n",
    "```\n",
    "df = pd.read_html(str(table))[0]\n",
    "\n",
    "```"
   ]
  }
 ],
 "metadata": {
  "kernelspec": {
   "display_name": "Python 3",
   "language": "python",
   "name": "python3"
  },
  "language_info": {
   "codemirror_mode": {
    "name": "ipython",
    "version": 3
   },
   "file_extension": ".py",
   "mimetype": "text/x-python",
   "name": "python",
   "nbconvert_exporter": "python",
   "pygments_lexer": "ipython3",
   "version": "3.8.5"
  }
 },
 "nbformat": 4,
 "nbformat_minor": 4
}
